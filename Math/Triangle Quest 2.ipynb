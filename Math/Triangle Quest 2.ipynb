{
 "cells": [
  {
   "cell_type": "code",
   "execution_count": 129,
   "metadata": {},
   "outputs": [
    {
     "output_type": "stream",
     "name": "stdout",
     "text": "1\n121\n12321\n1234321\n123454321\n"
    }
   ],
   "source": [
    "# You are given a positive integer . \n",
    "# Your task is to print a palindromic triangle of size .\n",
    "# For example, a palindromic triangle of size  is:\n",
    "# 1\n",
    "# 121\n",
    "# 12321\n",
    "# 1234321\n",
    "# 123454321\n",
    "# You can't take more than two lines. The first line (a for-statement) is already written for you. \n",
    "# You have to complete the code using exactly ******one print statement******.\n",
    "for i in range(1,6):\n",
    "    print(((10**i-1)//9)**2)  "
   ]
  }
 ],
 "metadata": {
  "language_info": {
   "codemirror_mode": {
    "name": "ipython",
    "version": 3
   },
   "file_extension": ".py",
   "mimetype": "text/x-python",
   "name": "python",
   "nbconvert_exporter": "python",
   "pygments_lexer": "ipython3",
   "version": "3.8.2-final"
  },
  "orig_nbformat": 2,
  "kernelspec": {
   "name": "python38264bit2d5236eee77a4df4ac120aaa40c7d773",
   "display_name": "Python 3.8.2 64-bit"
  }
 },
 "nbformat": 4,
 "nbformat_minor": 2
}